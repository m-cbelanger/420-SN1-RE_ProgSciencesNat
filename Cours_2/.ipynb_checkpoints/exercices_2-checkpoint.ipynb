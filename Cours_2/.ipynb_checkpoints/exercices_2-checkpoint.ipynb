{
 "cells": [
  {
   "cell_type": "markdown",
   "id": "5db626cf",
   "metadata": {},
   "source": [
    "# Exercices cours 2\n",
    "\n",
    "### Question 1\n",
    "a) Créez une fonction nommée _quad_ qui prend un nombre en entrée et qui retourne le quadruple de ce nombre. Prenez soins de vérifier votre sortie en affichant dans la console.\n",
    "\n",
    "b) Créez une fonction nommée _cinetique_ qui calcule l'énergie cinétique d'un objet en mouvement. Rappel:\n",
    "$$\n",
    "E_k = \\frac{1}{2} m v^2\n",
    "$$\n",
    "Prenez soins de vérifier votre sortie en affichant dans la console.\n",
    "\n",
    "c) Créez une fonction qui prend en entrée 4 valeurs: x_1, y_1, x_2, y_2 et qui retourne la distance entre les 2 coordonnées de points. Arrondir la réponse au besoin. Je vous laisse le soin de fouiller pour trouver la formule de distance entre 2 points. Prenez soins de vérifier votre sortie en affichant dans la console.\n",
    "\n",
    "d) Créez une fonction qui prend en entrée un rayon et un nombre de degrés d'ouverture d'un secteur de cercle. Transformer l'angle en radian et calculez la longueur d'arc de cercle engendré (ligne rouge).\n",
    "\n",
    "$$\n",
    "arc = \\frac{angle}{360}\\times 2\\pi r\n",
    "$$\n",
    "\n",
    "![arc_cercle.png](img/arc_cercle.png)\n",
    "\n",
    "e) Faire une fonction qui prend 5 nombres, et qui retourne le produit entre le plus petit et le plus grand des nombres. Prenez soins de vérifier votre sortie en affichant dans la console."
   ]
  },
  {
   "cell_type": "code",
   "execution_count": null,
   "id": "ba1f7029",
   "metadata": {},
   "outputs": [],
   "source": []
  }
 ],
 "metadata": {
  "kernelspec": {
   "display_name": "Python 3 (ipykernel)",
   "language": "python",
   "name": "python3"
  },
  "language_info": {
   "codemirror_mode": {
    "name": "ipython",
    "version": 3
   },
   "file_extension": ".py",
   "mimetype": "text/x-python",
   "name": "python",
   "nbconvert_exporter": "python",
   "pygments_lexer": "ipython3",
   "version": "3.11.5"
  }
 },
 "nbformat": 4,
 "nbformat_minor": 5
}
