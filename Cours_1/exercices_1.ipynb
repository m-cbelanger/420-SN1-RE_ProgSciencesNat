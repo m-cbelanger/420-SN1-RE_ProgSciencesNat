{
 "cells": [
  {
   "cell_type": "markdown",
   "id": "ca9da97d",
   "metadata": {},
   "source": [
    "# Exercices cours 1\n",
    "\n",
    "### Question 1\n",
    "Quels devraient être les résultats des calculs suivants dans la console de Thonny? Prenez le temps d'analyser et ensuite, testez chaque commande. Si l'opération donne une erreur, tentez de comprendre pourquoi ou de corriger la syntaxe"
   ]
  },
  {
   "cell_type": "markdown",
   "id": "a532e82d",
   "metadata": {},
   "source": [
    "1. 6 + 9 // 2\n",
    "2. $ 5 \\times (1 - 4)^{2} $\n",
    "3. 7 + 8 = resultat\n",
    "4. 'aBa' * 3\n",
    "5. 'aBa' + 8\n",
    "6. 'super' + 'pouvoirs'\n",
    "7. 2 + 'super' + 'pouvoirs'\n",
    "8. 'Titanic' - 'c'\n",
    "9. $ \\frac{15}{2} \\times 3$\n",
    "10. 8 % 2\n",
    "11. 2023 % 4"
   ]
  },
  {
   "cell_type": "markdown",
   "id": "359ea95d",
   "metadata": {},
   "source": [
    "### Question 2\n",
    "a) Dans la fenêtre principale de Thonny, écrivez quelques instructions pour calculer le **volume** d'une pyramide à base carrée qui a une hauteur de 5.6 cm et un côté de 4 cm. Vous devez déclarer les variables **hauteur** et **longueur** et leur affecter les valeurs ci-haut. Le volume d'une pyramide est\n",
    "\n",
    "$$\n",
    "Volume = \\frac{(Aire_{base} \\times hauteur)}{3}\n",
    "$$\n",
    "\n",
    "\n",
    "![03_volume-pyramide-base-carree.png](img/03_volume-pyramide-base-carree.png)\n",
    "\n",
    "b) Arrondir la réponse de la question précédente à 2 décimales. Indice: faites-le en utilisant la fonction de format `round(number, decimals)`.\n",
    "\n",
    "c) Nous n'avons pas encore vu comment faire des opération mathématiques comme la racine carrée ou la racine cubique. Par contre, en utilisant la propriété des exposants, déclarez une variable `apotheme` et mettez-y l'expression calculée à partir de la question a). Petit rappel de ce qu'est un apothème:\n",
    "![03_apotheme.png](img/03_apotheme.png)\n",
    "\n",
    "\n"
   ]
  },
  {
   "cell_type": "markdown",
   "id": "3accdcce",
   "metadata": {},
   "source": [
    "### Question 3\n",
    "Dans la loi des gaz parfaits PV = nRT, si on connait p = 101.1 kPa, v = 2.41 litres, r = 8.31 et n = 4 mol. Dans la fenêtre principale de Thonny:\n",
    "\n",
    "a) Affectez chaque valeur à une variable du nom de votre choix. \n",
    "\n",
    "b) Créez la variable t dans laquelle on affecte l'expression qui calcule la température. Celle-ci est en degrés Kelvin. \n",
    "\n",
    "c) Faites une seconde expression pour y mettre la réponse en Celsius. Il faut soustraire 273.15 aux Kelvins pour avoir des Celsius.\n",
    "\n",
    "d) Faire un print() qui écrira une phrase dynamique qui implique la réponse de c). Exemple: \"La température est de ___ Kelvin. Cela correspond à ___ Celsius\"."
   ]
  },
  {
   "cell_type": "markdown",
   "id": "4bd9d084",
   "metadata": {},
   "source": [
    "**_Les solutions sont disponibles [ici](solutions_1.ipynb)\n",
    ". Il est fortement recommandé de bien réfléchir à la résolution avant de regarder les solutions_**"
   ]
  },
  {
   "cell_type": "code",
   "execution_count": null,
   "id": "1d04ae87",
   "metadata": {},
   "outputs": [],
   "source": []
  }
 ],
 "metadata": {
  "kernelspec": {
   "display_name": "Python 3 (ipykernel)",
   "language": "python",
   "name": "python3"
  },
  "language_info": {
   "codemirror_mode": {
    "name": "ipython",
    "version": 3
   },
   "file_extension": ".py",
   "mimetype": "text/x-python",
   "name": "python",
   "nbconvert_exporter": "python",
   "pygments_lexer": "ipython3",
   "version": "3.11.5"
  }
 },
 "nbformat": 4,
 "nbformat_minor": 5
}
