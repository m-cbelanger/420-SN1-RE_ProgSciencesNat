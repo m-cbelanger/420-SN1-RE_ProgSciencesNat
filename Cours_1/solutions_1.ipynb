{
 "cells": [
  {
   "cell_type": "markdown",
   "id": "2d26afd2",
   "metadata": {},
   "source": [
    "# Solutions exercices du cours 1\n",
    "\n",
    "** Question 1 ** \n",
    "\n",
    "1. 10\n",
    "2. 45\n",
    "3. erreur, pour affecter une variable, il faut TOUJOURS la mettre à gauche\n",
    "4. 'aBaaBaaBa'\n",
    "5. erreur, on ne peut pas concaténer une chaîne de caractères avec un entier\n",
    "6. 'superpouvoirs'\n",
    "7. erreur, on ne peut pas concaténer une chaîne de caractères avec un entier\n",
    "8. erreur, on ne peut pas soustraire avec les chaînes de caractères\n",
    "9. 22.5\n",
    "10. 0\n",
    "11. 3\n"
   ]
  }
 ],
 "metadata": {
  "kernelspec": {
   "display_name": "Python 3 (ipykernel)",
   "language": "python",
   "name": "python3"
  },
  "language_info": {
   "codemirror_mode": {
    "name": "ipython",
    "version": 3
   },
   "file_extension": ".py",
   "mimetype": "text/x-python",
   "name": "python",
   "nbconvert_exporter": "python",
   "pygments_lexer": "ipython3",
   "version": "3.11.5"
  }
 },
 "nbformat": 4,
 "nbformat_minor": 5
}
