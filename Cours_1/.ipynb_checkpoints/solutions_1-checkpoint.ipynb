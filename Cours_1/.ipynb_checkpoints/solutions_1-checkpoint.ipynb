{
 "cells": [
  {
   "cell_type": "markdown",
   "id": "52f3b5ff",
   "metadata": {},
   "source": [
    "# Solutions exercices du cours 1\n",
    "\n",
    "[Retour aux questions](exercices_1.ipynb)\n",
    "\n",
    "**Question 1** \n",
    "\n",
    "1. 10\n",
    "2. 45\n",
    "3. erreur, pour affecter une variable, il faut TOUJOURS la mettre à gauche\n",
    "4. 'aBaaBaaBa'\n",
    "5. erreur, on ne peut pas concaténer une chaîne de caractères avec un entier\n",
    "6. 'superpouvoirs'\n",
    "7. erreur, on ne peut pas concaténer une chaîne de caractères avec un entier\n",
    "8. erreur, on ne peut pas soustraire avec les chaînes de caractères\n",
    "9. 22.5\n",
    "10. 0\n",
    "11. 3\n",
    "\n",
    "**Question 2**\n",
    "\n",
    "a) \n",
    "![sol_Q2.png](img/sol_Q2.png)\n",
    "\n",
    "b) Modification dans l'affichage: \n",
    "```Python\n",
    "print(round(volume,2), ' cm cubes')\n",
    "```\n",
    "c) l'apothème découle d'une relation de Pythagore:\n"
   ]
  },
  {
   "cell_type": "code",
   "execution_count": 1,
   "id": "531badc0",
   "metadata": {},
   "outputs": [
    {
     "name": "stdout",
     "output_type": "stream",
     "text": [
      "l'apothème mesure 5.95 cm\n"
     ]
    }
   ],
   "source": [
    "hauteur = 5.6\n",
    "longueur = 4\n",
    "apotheme = ((longueur/2)**2 + (hauteur)**2)**(0.5)\n",
    "print('l\\'apothème mesure', round(apotheme,2), 'cm')"
   ]
  },
  {
   "cell_type": "markdown",
   "id": "985ab7aa",
   "metadata": {},
   "source": [
    "**Question3**\n",
    "\n",
    "a) Par convention, on met des lettres minuscules aux noms de variables:\n",
    "```Python\n",
    "p = 101.1\n",
    "v = 3.1\n",
    "r = 8.31\n",
    "n = 0.14\n",
    "```\n",
    "b) En isolant t dans l'équation:\n",
    "$$\n",
    "T =\\frac{p \\cdot v}{n \\cdot r}\n",
    "$$\n",
    "on ajoute ceci sous les variables déclarées en a):\n",
    "\n",
    "```Python\n",
    "t = p*v/(n*r)\n",
    "print(t, 'Kelvin')\n",
    "```\n",
    "\n",
    "c) On crée une nouvelle variable:\n",
    "```Python\n",
    "t_celsius = t - 273.15\n",
    "print(t_celsius, 'Celsius')\n",
    "```\n",
    "\n",
    "d) Voici une proposition:\n",
    "```Python\n",
    "print('La température est de ', t, ' Kelvin. Cela correspond à ', t_celsius, ' Celsius')\n",
    "```"
   ]
  }
 ],
 "metadata": {
  "kernelspec": {
   "display_name": "Python 3 (ipykernel)",
   "language": "python",
   "name": "python3"
  },
  "language_info": {
   "codemirror_mode": {
    "name": "ipython",
    "version": 3
   },
   "file_extension": ".py",
   "mimetype": "text/x-python",
   "name": "python",
   "nbconvert_exporter": "python",
   "pygments_lexer": "ipython3",
   "version": "3.11.5"
  }
 },
 "nbformat": 4,
 "nbformat_minor": 5
}
