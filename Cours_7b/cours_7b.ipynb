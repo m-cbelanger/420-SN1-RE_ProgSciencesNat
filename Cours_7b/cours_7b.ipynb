{
 "cells": [
  {
   "cell_type": "markdown",
   "id": "8106bb10",
   "metadata": {},
   "source": [
    "# Cours 7b\n",
    "\n",
    "Précision sur l'utilisation du `in` vs `range()` dans une boucle `for`\n",
    "\n",
    "Prenons 2 listes associées entre elles:\n",
    "\n",
    "```py\n",
    "#index     0     1     2     3    4     5     6     7      8    9\n",
    "age    = [ 17 ,  18 ,  16 ,  17 , 16  , 21  , 22  , 21  ,  20 , 25  ]\n",
    "taille = [1.77, 1.67, 1.89, 1.54, 2.89, 1.77, 1.90, 1.89, 1.89, 1.56]\n",
    "```\n",
    "\n",
    "### Moments où l'utilisation du for element in est bon:\n",
    "\n",
    "- Si on veut parcourir une seule liste sans s'occuper du contenu des autres listes associées\n",
    "- Si la liste qu'on parcoure n'a assurément pas de doublons (liste de questions, liste avec les mois de l'année, liste avec des numéros d'identification d'étudiants, etc.)\n",
    "- Si on ne veux pas modifier la liste (remplacer des valeurs, les éliminer, les déplacer selon leur position)\n",
    "\n",
    "### Pourquoi ça ne marche pas toujours?\n",
    "\n",
    "Si on parcoure une liste et qu'on supprime les valeurs à mesure qu'on passe dans une boucle, on aura ce type de problème:\n",
    "\n",
    "![probleme_remove.PNG](img/probleme_remove.PNG)\n",
    "\n",
    "![probleme_remove2.PNG](img/probleme_remove2.PNG)\n",
    "\n",
    "Si on veux récupérer l'index dans une liste **avec des doublons**, on aura ceci:\n",
    "\n",
    "```py\n",
    "for element in age:\n",
    "    if element %2 == 0:\n",
    "        index = age.index(element)\n",
    "        print(index) # avant de supprimer, on peut voir que les index ne sont pas les bons à cause de doublons.\n",
    "```\n",
    "\n",
    "![console_index_doublons.PNG](img/console_index_doublons.PNG)\n",
    "\n",
    "\n",
    "### Moment où l'utilisation du for i in range() est nécessaire\n",
    "- Si on veut faire des modifications ou des traitements à plusieurs listes avec doublon en associant leur index commun.\n",
    "\n",
    "Idée: plutôt que d'aller récupérer l'index de chaque élément lors d'un passage dans la boucle, on va parcourir les INDEX de chaque élément. Si on veut manipuler l'élément à la position i, on va écrire `age[i]`.\n",
    "\n",
    "![age_i.PNG](img/age_i.PNG)\n",
    "\n"
   ]
  },
  {
   "cell_type": "code",
   "execution_count": null,
   "id": "e3f7ac29",
   "metadata": {},
   "outputs": [],
   "source": []
  }
 ],
 "metadata": {
  "kernelspec": {
   "display_name": "Python 3 (ipykernel)",
   "language": "python",
   "name": "python3"
  },
  "language_info": {
   "codemirror_mode": {
    "name": "ipython",
    "version": 3
   },
   "file_extension": ".py",
   "mimetype": "text/x-python",
   "name": "python",
   "nbconvert_exporter": "python",
   "pygments_lexer": "ipython3",
   "version": "3.11.5"
  }
 },
 "nbformat": 4,
 "nbformat_minor": 5
}
