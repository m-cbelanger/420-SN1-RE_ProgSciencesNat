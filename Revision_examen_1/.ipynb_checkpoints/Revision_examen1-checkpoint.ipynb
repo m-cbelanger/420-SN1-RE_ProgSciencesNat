{
 "cells": [
  {
   "cell_type": "markdown",
   "id": "5999f336",
   "metadata": {},
   "source": [
    "# Révsion examen 1\n",
    "\n",
    "\n",
    "## Section de questions théoriques\n",
    "\n",
    "\n",
    "### Question 1 \n",
    "Vrai ou faux?\n",
    "a) Dans la structure conditionnelle, on peut avoir seulement un if.\n",
    "\n",
    "b) Si on déclare une variable pendant qu'on est dans une fonction, celle-ci ne sera plus utilisable à l'extérieur de la fonction.\n",
    "\n",
    "c) Le nom de variable \"3eVitesse\" est valide.\n",
    "\n",
    "\n",
    "### Question 2\n",
    "a) Pourquoi il est avantageux de faire des fonctions?\n",
    "\n",
    "b) Qu'est-ce qui apparaîtra dans la console si on lance ce bout de code:\n",
    "\n",
    "```py\n",
    "poids = 34\n",
    "poids_lbs = poids*2.2\n",
    "print(\"poids_lbs\")\n",
    "```\n",
    "\n",
    "c) En roulant ce bout de code: \n",
    "```py\n",
    "def fonction(a,b):\n",
    "    resultat = a * b\n",
    "    return resultat\n",
    "\n",
    "print(resultat)\n",
    "\n",
    "```\n",
    "on obtient un message d'erreur:\n",
    "![erreur1.PNG](img/erreur1.PNG)\n",
    "\n",
    "\n",
    "\n",
    "## Section de questions de programmation avec logiciel"
   ]
  },
  {
   "cell_type": "code",
   "execution_count": null,
   "id": "1b8fddb6",
   "metadata": {},
   "outputs": [],
   "source": []
  }
 ],
 "metadata": {
  "kernelspec": {
   "display_name": "Python 3 (ipykernel)",
   "language": "python",
   "name": "python3"
  },
  "language_info": {
   "codemirror_mode": {
    "name": "ipython",
    "version": 3
   },
   "file_extension": ".py",
   "mimetype": "text/x-python",
   "name": "python",
   "nbconvert_exporter": "python",
   "pygments_lexer": "ipython3",
   "version": "3.11.5"
  }
 },
 "nbformat": 4,
 "nbformat_minor": 5
}
